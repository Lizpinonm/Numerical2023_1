{
 "cells": [
  {
   "cell_type": "code",
   "execution_count": 35,
   "metadata": {
    "colab": {
     "base_uri": "https://localhost:8080/",
     "height": 282
    },
    "executionInfo": {
     "elapsed": 304,
     "status": "ok",
     "timestamp": 1637951677565,
     "user": {
      "displayName": "Iván CsCál",
      "photoUrl": "https://lh3.googleusercontent.com/a-/AOh14Gh4EAGdmKRFoLh5kUJZaxB3h7XaBXLEptS9jygGzw=s64",
      "userId": "13680463535271576262"
     },
     "user_tz": 360
    },
    "id": "ny_dkbQrhlu-",
    "outputId": "99396ed5-fa64-4a78-8df8-3d2fed63786a"
   },
   "outputs": [
    {
     "data": {
      "text/plain": [
       "<matplotlib.collections.PathCollection at 0x7fbfec7ff100>"
      ]
     },
     "execution_count": 35,
     "metadata": {},
     "output_type": "execute_result"
    },
    {
     "data": {
      "image/png": "[encoded data removed]",
      "text/plain": [
       "<Figure size 432x288 with 1 Axes>"
      ]
     },
     "metadata": {
      "needs_background": "light"
     },
     "output_type": "display_data"
    }
   ],
   "source": [
    "import random\n",
    "import matplotlib.pyplot as plt\n",
    "import numpy as np\n",
    " \n",
    "def gen_data(n, bias, varianza):\n",
    "    x = []\n",
    "    y = []\n",
    "    z = []\n",
    "    for i in range(0, n):\n",
    "        x.append(i)\n",
    "        y.append((i + bias) + random.uniform(0, 1) * varianza)\n",
    "    return x, y\n",
    " \n",
    "x,b = gen_data(100, 25, 50)\n",
    "plt.scatter(x, b)"
   ]
  },
  {
   "cell_type": "code",
   "execution_count": 36,
   "metadata": {},
   "outputs": [],
   "source": [
    "class Invertion:\n",
    "    ## A es un numpy array de dos dimensiones\n",
    "\n",
    "    def __init__(self, A):\n",
    "        self.A=A\n",
    "    \n",
    "    def Cholesky(self):\n",
    "        n=self.A.shape[0]\n",
    "        self.L=np.zeros_like(self.A)\n",
    "\n",
    "        for k in range(n):\n",
    "            for i in range(k+1):\n",
    "                if k==i:\n",
    "                    sum=0.0\n",
    "                    for j in range(k):\n",
    "                        sum+= self.L[k][j]*self.L[k][j]\n",
    "                    self.L[k][k]=np.sqrt(self.A[k][k]-sum)\n",
    "\n",
    "                else:\n",
    "                    sum=0.0\n",
    "                    for j in range(i):\n",
    "                        sum+= self.L[i][j]*self.L[k][j]\n",
    "                    self.L[k][i]=(self.A[k][i]-sum)/self.L[i][i]\n",
    "        return self.L"
   ]
  },
  {
   "cell_type": "code",
   "execution_count": 37,
   "metadata": {},
   "outputs": [],
   "source": [
    "class Sust:\n",
    "\tdef __init__(self,L,U,b):\n",
    "\t\tself.L=L\n",
    "\t\tself.U=U\n",
    "\t\tself.b=b\n",
    "\t\tself.sustDelante()\n",
    "\t\tself.sustAtras()\n",
    "\n",
    "\tdef sustDelante(self):\n",
    "\t\tn=len(self.L)\n",
    "\t\tself.y=np.empty_like(self.b)\n",
    "\t\tself.y[0] = self.b[0]/self.L[0][0]\n",
    "\t\tfor i in range(1,n):\n",
    "\t\t\tself.y[i] = self.b[i]\n",
    "\t\t\tfor j in range(0,i):\n",
    "\t\t\t\tself.y[i] -= self.L[i][j]*self.y[j]\n",
    "\t\t\tself.y[i] /= self.L[i][i]\n",
    "\n",
    "\tdef sustAtras(self):\n",
    "\t\tn=len(self.U)\n",
    "\t\tself.x=np.empty_like(self.y)\n",
    "\t\tself.x[n-1] = self.y[n-1]/self.U[n-1][n-1]\n",
    "\t\tfor i in range(n-2,-1,-1):\n",
    "\t\t\tself.x[i] = self.y[i]\n",
    "\t\t\tfor j in range(i+1,n):\n",
    "\t\t\t\tself.x[i] -= self.U[i][j]*self.x[j]\n",
    "\t\t\tself.x[i] /= self.U[i][i]\n",
    "\n",
    "\tdef get_Solve(self):\n",
    "\t\treturn self.x"
   ]
  },
  {
   "cell_type": "code",
   "execution_count": 38,
   "metadata": {},
   "outputs": [],
   "source": [
    "A=np.zeros((len(y),2))\n",
    "A[:,0]=1.0\n",
    "A[:,1]=np.array(x)"
   ]
  },
  {
   "cell_type": "code",
   "execution_count": 39,
   "metadata": {},
   "outputs": [],
   "source": [
    "AT_A=A.T@A\n",
    "AT_b=A.T@b"
   ]
  },
  {
   "cell_type": "code",
   "execution_count": 40,
   "metadata": {},
   "outputs": [
    {
     "data": {
      "text/plain": [
       "(50.60681286098516, 1.0097353455165465)"
      ]
     },
     "execution_count": 40,
     "metadata": {},
     "output_type": "execute_result"
    }
   ],
   "source": [
    "def SolveCholesky():\n",
    "    method=Invertion(AT_A)\n",
    "    L=method.Cholesky()\n",
    "    S=Sust(L,L.T,AT_b)\n",
    "    x_g=S.get_Solve()\n",
    "    return x_g\n",
    "\n",
    "alpha,beta=SolveCholesky()\n",
    "alpha,beta"
   ]
  },
  {
   "cell_type": "code",
   "execution_count": 41,
   "metadata": {
    "colab": {
     "base_uri": "https://localhost:8080/",
     "height": 265
    },
    "executionInfo": {
     "elapsed": 360,
     "status": "ok",
     "timestamp": 1637953831841,
     "user": {
      "displayName": "Iván CsCál",
      "photoUrl": "https://lh3.googleusercontent.com/a-/AOh14Gh4EAGdmKRFoLh5kUJZaxB3h7XaBXLEptS9jygGzw=s64",
      "userId": "13680463535271576262"
     },
     "user_tz": 360
    },
    "id": "yluDCXmnprSm",
    "outputId": "973d5d22-a1b9-44ce-f3c9-d7a301a7bb85"
   },
   "outputs": [
    {
     "data": {
      "image/png": "[encoded data removed]",
      "text/plain": [
       "<Figure size 432x288 with 1 Axes>"
      ]
     },
     "metadata": {
      "needs_background": "light"
     },
     "output_type": "display_data"
    }
   ],
   "source": [
    "y_new=beta*np.array(x)+alpha\n",
    "\n",
    "plt.scatter(x, y,color='red')\n",
    "plt.plot(x,y_new,color='black')\n",
    "plt.grid()"
   ]
  }
 ],
 "metadata": {
  "colab": {
   "authorship_tag": "ABX9TyPDmUrAbVg3+lEmkTV2BeZd",
   "collapsed_sections": [],
   "name": "DescensoClaseModelacion.ipynb",
   "provenance": []
  },
  "kernelspec": {
   "display_name": "Python 3 (ipykernel)",
   "language": "python",
   "name": "python3"
  },
  "language_info": {
   "codemirror_mode": {
    "name": "ipython",
    "version": 3
   },
   "file_extension": ".py",
   "mimetype": "text/x-python",
   "name": "python",
   "nbconvert_exporter": "python",
   "pygments_lexer": "ipython3",
   "version": "3.8.10"
  }
 },
 "nbformat": 4,
 "nbformat_minor": 1
}
