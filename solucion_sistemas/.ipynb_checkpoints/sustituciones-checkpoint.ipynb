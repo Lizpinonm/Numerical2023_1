{
 "cells": [
  {
   "cell_type": "code",
   "execution_count": 1,
   "id": "19610853",
   "metadata": {},
   "outputs": [],
   "source": [
    "import numpy as np"
   ]
  },
  {
   "cell_type": "code",
   "execution_count": 16,
   "id": "c39be1e7",
   "metadata": {},
   "outputs": [],
   "source": [
    "def sustDelante(L,b):\n",
    "    n=len(L)\n",
    "    y=np.empty_like(b)\n",
    "    y[0] = b[0]/L[0][0]\n",
    "    for i in range(1,n):\n",
    "        y[i] = b[i]\n",
    "        for j in range(0,i):\n",
    "            y[i] -= L[i][j]*y[j]\n",
    "        y[i] /= L[i][i]\n",
    "        \n",
    "    return y"
   ]
  },
  {
   "cell_type": "code",
   "execution_count": 21,
   "id": "d472e9c6",
   "metadata": {},
   "outputs": [],
   "source": [
    "def sustAtras(U,y):\n",
    "    n=len(U)\n",
    "    x=np.empty_like(y)\n",
    "    x[n-1] = y[n-1]/U[n-1][n-1]\n",
    "    for i in range(n-2,-1,-1):\n",
    "        x[i] = y[i]\n",
    "        for j in range(i+1,n):\n",
    "            x[i] -= U[i][j]*x[j]\n",
    "        x[i] /= U[i][i]\n",
    "\n",
    "    return x"
   ]
  },
  {
   "cell_type": "code",
   "execution_count": 22,
   "id": "694dccde",
   "metadata": {},
   "outputs": [],
   "source": [
    "Low=np.array([[-4,-3,1],[0,5,1],[0,0,3]])\n",
    "b=np.ones(3)"
   ]
  },
  {
   "cell_type": "code",
   "execution_count": 24,
   "id": "90971557",
   "metadata": {},
   "outputs": [
    {
     "data": {
      "text/plain": [
       "array([-0.26666667,  0.13333333,  0.33333333])"
      ]
     },
     "execution_count": 24,
     "metadata": {},
     "output_type": "execute_result"
    }
   ],
   "source": [
    "res=sustAtras(Low,b)\n",
    "res"
   ]
  },
  {
   "cell_type": "code",
   "execution_count": 19,
   "id": "732ee5e5",
   "metadata": {},
   "outputs": [
    {
     "data": {
      "text/plain": [
       "array([-0.26666667,  0.13333333,  0.33333333])"
      ]
     },
     "execution_count": 19,
     "metadata": {},
     "output_type": "execute_result"
    }
   ],
   "source": [
    "np.linalg.solve(Low,b)"
   ]
  },
  {
   "cell_type": "code",
   "execution_count": 20,
   "id": "0c95c023",
   "metadata": {},
   "outputs": [],
   "source": [
    "up= np.array([[1,0,0],[-2,1,0],[-1,3,1]])"
   ]
  },
  {
   "cell_type": "code",
   "execution_count": 26,
   "id": "b2cf30dc",
   "metadata": {},
   "outputs": [
    {
     "data": {
      "text/plain": [
       "array([ 1.,  3., -7.])"
      ]
     },
     "execution_count": 26,
     "metadata": {},
     "output_type": "execute_result"
    }
   ],
   "source": [
    "res1=sustDelante(up,b)\n",
    "res1"
   ]
  },
  {
   "cell_type": "code",
   "execution_count": 27,
   "id": "9a99f570",
   "metadata": {},
   "outputs": [
    {
     "data": {
      "text/plain": [
       "array([ 1.,  3., -7.])"
      ]
     },
     "execution_count": 27,
     "metadata": {},
     "output_type": "execute_result"
    }
   ],
   "source": [
    "np.linalg.solve(up,b)"
   ]
  },
  {
   "cell_type": "code",
   "execution_count": null,
   "id": "a13e98a1",
   "metadata": {},
   "outputs": [],
   "source": []
  }
 ],
 "metadata": {
  "kernelspec": {
   "display_name": "Python 3 (ipykernel)",
   "language": "python",
   "name": "python3"
  },
  "language_info": {
   "codemirror_mode": {
    "name": "ipython",
    "version": 3
   },
   "file_extension": ".py",
   "mimetype": "text/x-python",
   "name": "python",
   "nbconvert_exporter": "python",
   "pygments_lexer": "ipython3",
   "version": "3.9.12"
  }
 },
 "nbformat": 4,
 "nbformat_minor": 5
}
