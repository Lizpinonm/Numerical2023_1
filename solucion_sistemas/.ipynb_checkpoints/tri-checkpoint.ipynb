{
 "cells": [
  {
   "cell_type": "code",
   "execution_count": 2,
   "metadata": {},
   "outputs": [],
   "source": [
    "import numpy as np"
   ]
  },
  {
   "cell_type": "code",
   "execution_count": 3,
   "metadata": {},
   "outputs": [],
   "source": [
    "def trid(d1, d0,  d2, b):\n",
    "    #d1 diagonal inferior\n",
    "    #d0 diagonal principal\n",
    "    #d2 diagonal superior\n",
    "    n=d0.shape[0]\n",
    "    x=np.zeros(n)\n",
    "    for i in range(n-1):\n",
    "        a=0.0\n",
    "        a=d1[i]/d0[i]\n",
    "        d0[i+1]=d0[i+1]-a*d2[i]\n",
    "        b[i+1]=b[i+1]-a*b[i]\n",
    "\n",
    "    x[n-1]=b[n-1]/d0[n-1]\n",
    "    for i in range(n-2,-1,-1):\n",
    "        x[i]=(b[i]-d2[i]*x[i+1])/d0[i]\n",
    "    return x"
   ]
  },
  {
   "cell_type": "code",
   "execution_count": 11,
   "metadata": {},
   "outputs": [
    {
     "data": {
      "text/plain": [
       "array([-2.5, -4. , -4.5, -4. , -2.5])"
      ]
     },
     "execution_count": 11,
     "metadata": {},
     "output_type": "execute_result"
    }
   ],
   "source": [
    "n=5\n",
    "dprin=-2.0*np.ones(n)\n",
    "dinf=1.0*np.ones(n-1)\n",
    "dsup=1.0*np.ones(n-1)\n",
    "\n",
    "b=1.0*np.ones(n)\n",
    "\n",
    "res=trid(dsup,dprin,dinf,b)\n",
    "res"
   ]
  },
  {
   "cell_type": "code",
   "execution_count": 10,
   "metadata": {},
   "outputs": [
    {
     "data": {
      "text/plain": [
       "array([-2.5, -4. , -4.5, -4. , -2.5])"
      ]
     },
     "execution_count": 10,
     "metadata": {},
     "output_type": "execute_result"
    }
   ],
   "source": [
    "Mprin=np.diag(np.ones(n))*(-2.0)\n",
    "Msup=np.diag(np.ones(n-1),1)*1.0\n",
    "Minf=np.diag(np.ones(n-1),-1)*1.0\n",
    "M=Mprin+Minf+Msup\n",
    "\n",
    "res1=np.linalg.solve(M,b)\n",
    "res1"
   ]
  },
  {
   "cell_type": "code",
   "execution_count": null,
   "metadata": {},
   "outputs": [],
   "source": []
  }
 ],
 "metadata": {
  "kernelspec": {
   "display_name": "Python 3 (ipykernel)",
   "language": "python",
   "name": "python3"
  },
  "language_info": {
   "codemirror_mode": {
    "name": "ipython",
    "version": 3
   },
   "file_extension": ".py",
   "mimetype": "text/x-python",
   "name": "python",
   "nbconvert_exporter": "python",
   "pygments_lexer": "ipython3",
   "version": "3.9.12"
  },
  "vscode": {
   "interpreter": {
    "hash": "916dbcbb3f70747c44a77c7bcd40155683ae19c65e1c03b4aa3499c5328201f1"
   }
  }
 },
 "nbformat": 4,
 "nbformat_minor": 2
}
